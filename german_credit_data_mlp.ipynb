{
 "cells": [
  {
   "cell_type": "markdown",
   "metadata": {},
   "source": [
    "# 德国银行信用数据分析（利用MLP）\n",
    "**马文熙 201870263**  \n"
   ]
  },
  {
   "cell_type": "markdown",
   "metadata": {},
   "source": [
    "## Python包导入"
   ]
  }
 ],
 "metadata": {
  "kernelspec": {
   "display_name": "Python 3.10.2 64-bit",
   "language": "python",
   "name": "python3"
  },
  "language_info": {
   "name": "python",
   "version": "3.10.2"
  },
  "orig_nbformat": 4,
  "vscode": {
   "interpreter": {
    "hash": "e816be82a04446edd04354d24fadffba2faf9786f602523857a452fae3a8200d"
   }
  }
 },
 "nbformat": 4,
 "nbformat_minor": 2
}
